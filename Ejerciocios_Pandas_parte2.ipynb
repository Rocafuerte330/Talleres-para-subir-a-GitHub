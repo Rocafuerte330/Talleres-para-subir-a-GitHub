{
 "cells": [
  {
   "cell_type": "code",
   "execution_count": null,
   "id": "8f52672a",
   "metadata": {},
   "outputs": [],
   "source": [
    "#Crear un sistema que almacene equipos biomédicos, cada equipo tiene información de:\n",
    "# nombre, marca, ubicación, fecha de calibración ,fecha de mmto ,nombre del proveedor.\n",
    "#Para ello implementarlo a partir de un dataframe con la información anterior.\n",
    "#PRIMER EJERCICIO\n",
    "import pandas as pd\n",
    "\n",
    "def agregar_equipo(nombre, marca, ubicacion, fecha_calibracion ,fecha_mmto ,nombre_proveedor,Data):\n",
    "    nuevo_equipo = {\"nombre\":[nombre], \"marca\":[marca], \"ubicacion\":[ubicacion], \"fecha_calibracion\":[fecha_calibracion],\"fecha_mmto\":[fecha_mmto] ,\"nombre_proveedor\":[nombre_proveedor]}\n",
    "    Data = pd.concat([Data, pd.DataFrame(nuevo_equipo)])\n",
    "    return Data\n",
    "\n",
    "\n",
    "def main():\n",
    "    DataFrame_equipos = pd.DataFrame(columns=[\"nombre\", \"marca\", \"ubicacion\", \"fecha_calibracion\" ,\"fecha_mmto\" ,\"nombre_proveedor\"])\n",
    "    while True:\n",
    "        R = int(input(\"\"\"1. Agregar equipo\n",
    "2. Ver equipos\n",
    "R// \"\"\"))\n",
    "        if R == 1:\n",
    "            print(\"ingrese los siguientes datos\")\n",
    "            nombre = input(\"Nombre: \")\n",
    "            marca = input(\"Marca: \")\n",
    "            ubicacion = input(\"Ubicación: \")\n",
    "            fecha_calibracion = input(\"Fecha de calibración: \")\n",
    "            fecha_mmto = input(\"Fecha de mantenimiento: \")\n",
    "            nombre_proveedor = input(\"Nombre del proveedor: \")\n",
    "            DataFrame_equipos = agregar_equipo(nombre, marca, ubicacion, fecha_calibracion ,fecha_mmto ,nombre_proveedor,DataFrame_equipos)\n",
    "        elif R == 2:\n",
    "            print(DataFrame_equipos)\n",
    "        else:\n",
    "            print(\"Valor no disponible\")\n",
    "if __name__ == \"__main__\":\n",
    "    main()"
   ]
  }
 ],
 "metadata": {
  "language_info": {
   "name": "python"
  }
 },
 "nbformat": 4,
 "nbformat_minor": 5
}
